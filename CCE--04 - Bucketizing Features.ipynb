{
 "cells": [
  {
   "cell_type": "code",
   "execution_count": 1,
   "id": "a4210b93",
   "metadata": {},
   "outputs": [],
   "source": [
    "import numpy as np\n",
    "import pandas as pd\n",
    "from matplotlib import pyplot as plt\n",
    "\n",
    "import torch\n",
    "import torch.nn as nn\n",
    "import torch.optim as optim"
   ]
  },
  {
   "cell_type": "code",
   "execution_count": 2,
   "id": "dcc85a87",
   "metadata": {},
   "outputs": [],
   "source": [
    "tr_path = \"https://download.mlcc.google.com/mledu-datasets/california_housing_train.csv\"\n",
    "ts_path = \"https://download.mlcc.google.com/mledu-datasets/california_housing_test.csv\"\n",
    "\n",
    "train_df = pd.read_csv(tr_path)\n",
    "test_df = pd.read_csv(ts_path)"
   ]
  },
  {
   "cell_type": "code",
   "execution_count": 3,
   "id": "c8cabb6f",
   "metadata": {},
   "outputs": [],
   "source": [
    "scale_factor = 1000.0\n",
    "\n",
    "train_df[\"median_house_value\"] /= scale_factor \n",
    "\n",
    "test_df[\"median_house_value\"] /= scale_factor\n",
    "\n",
    "train_df = train_df.reindex(np.random.permutation(train_df.index))"
   ]
  },
  {
   "cell_type": "code",
   "execution_count": 4,
   "id": "f2912d55",
   "metadata": {},
   "outputs": [],
   "source": [
    "class FloatModel(nn.Module):\n",
    "    def __init__(self):\n",
    "        super().__init__()\n",
    "        self.layer = nn.Linear(2, 1)\n",
    "\n",
    "    def forward(self, x):\n",
    "        return self.layer(x)"
   ]
  },
  {
   "cell_type": "code",
   "execution_count": 11,
   "id": "eb2c819f",
   "metadata": {},
   "outputs": [],
   "source": [
    "def train_model(model, dataset, epochs, batch_size, label_name, my_lr):\n",
    "    train_loss_values = []\n",
    "    val_loss_values = []\n",
    "    \n",
    "    criterion = nn.MSELoss()\n",
    "    optimizer = optim.RMSprop(model.parameters(), lr=my_lr)\n",
    "    \n",
    "    features = torch.tensor(np.concatenate([dataset['latitude'].values[:, np.newaxis],\n",
    "                                            dataset['longitude'].values[:, np.newaxis]],\n",
    "                                           axis=1), dtype=torch.float32)\n",
    "    \n",
    "    label = torch.tensor(dataset[label_name].values, dtype=torch.float32).unsqueeze(1)\n",
    "    \n",
    "    dataset = torch.utils.data.TensorDataset(features, label)\n",
    "    \n",
    "    dataloader = torch.utils.data.DataLoader(dataset, batch_size=batch_size, shuffle=True)\n",
    "    \n",
    "    for epoch in range(epochs):\n",
    "        model.train()\n",
    "        tr_epoch_loss = 0.0\n",
    "        for batch_feature, batch_label in dataloader:\n",
    "            train_preds = model(batch_feature)\n",
    "            train_loss = criterion(train_preds, batch_label)\n",
    "            tr_epoch_loss += train_loss.item()\n",
    "            optimizer.zero_grad()   \n",
    "            train_loss.backward()   \n",
    "            optimizer.step()\n",
    "        train_loss_values.append(tr_epoch_loss / len(dataloader))\n",
    "        \n",
    "        print(f\"Epoch: {epoch} | Train Loss: {tr_epoch_loss / len(dataloader)}\")\n",
    "    \n",
    "    return train_loss_values"
   ]
  },
  {
   "cell_type": "code",
   "execution_count": 12,
   "id": "66322cf2",
   "metadata": {},
   "outputs": [],
   "source": [
    "learning_rate = 0.05\n",
    "epochs = 30\n",
    "batch_size = 1000\n",
    "\n",
    "model = FloatModel()"
   ]
  },
  {
   "cell_type": "code",
   "execution_count": 13,
   "id": "c116d89f",
   "metadata": {},
   "outputs": [
    {
     "name": "stdout",
     "output_type": "stream",
     "text": [
      "Epoch: 0 | Train Loss: 18772.28596047794\n",
      "Epoch: 1 | Train Loss: 13516.613740808823\n",
      "Epoch: 2 | Train Loss: 13512.448701746323\n",
      "Epoch: 3 | Train Loss: 13508.63907398897\n",
      "Epoch: 4 | Train Loss: 13506.384765625\n",
      "Epoch: 5 | Train Loss: 13503.35041360294\n",
      "Epoch: 6 | Train Loss: 13502.150620404413\n",
      "Epoch: 7 | Train Loss: 13493.63396139706\n",
      "Epoch: 8 | Train Loss: 13490.413775275736\n",
      "Epoch: 9 | Train Loss: 13488.80939797794\n",
      "Epoch: 10 | Train Loss: 13480.248334099264\n",
      "Epoch: 11 | Train Loss: 13476.168198529413\n",
      "Epoch: 12 | Train Loss: 13469.78532858456\n",
      "Epoch: 13 | Train Loss: 13482.197897518383\n",
      "Epoch: 14 | Train Loss: 13451.592256433823\n",
      "Epoch: 15 | Train Loss: 13455.784524356617\n",
      "Epoch: 16 | Train Loss: 13452.84357766544\n",
      "Epoch: 17 | Train Loss: 13439.339096966913\n",
      "Epoch: 18 | Train Loss: 13428.07306985294\n",
      "Epoch: 19 | Train Loss: 13421.329733455883\n",
      "Epoch: 20 | Train Loss: 13426.458237591913\n",
      "Epoch: 21 | Train Loss: 13417.82657398897\n",
      "Epoch: 22 | Train Loss: 13387.274758731617\n",
      "Epoch: 23 | Train Loss: 13398.318876378677\n",
      "Epoch: 24 | Train Loss: 13374.167221966913\n",
      "Epoch: 25 | Train Loss: 13369.802447150736\n",
      "Epoch: 26 | Train Loss: 13366.228802849264\n",
      "Epoch: 27 | Train Loss: 13333.162856158087\n",
      "Epoch: 28 | Train Loss: 13345.874885110294\n",
      "Epoch: 29 | Train Loss: 13331.65567555147\n"
     ]
    }
   ],
   "source": [
    "tr_loss = train_model(model, train_df, epochs, batch_size,\n",
    "                      'median_house_value', learning_rate)"
   ]
  },
  {
   "cell_type": "code",
   "execution_count": 15,
   "id": "34aeffcf",
   "metadata": {},
   "outputs": [],
   "source": [
    "def plot_the_loss_curve(epochs, tr_error):\n",
    "    plt.figure()\n",
    "    plt.xlabel(\"Epoch\")\n",
    "    plt.ylabel(\"Root Mean Squared Error\")\n",
    "    tr_error = np.sqrt(tr_error)\n",
    "    plt.plot(epochs, tr_error, label=\"Training Loss\")\n",
    "    plt.legend()\n",
    "    plt.show()"
   ]
  },
  {
   "cell_type": "code",
   "execution_count": 16,
   "id": "c91b2ed9",
   "metadata": {},
   "outputs": [
    {
     "data": {
      "image/png": "[encoded data removed]",
      "text/plain": [
       "<Figure size 640x480 with 1 Axes>"
      ]
     },
     "metadata": {},
     "output_type": "display_data"
    }
   ],
   "source": [
    "plot_the_loss_curve(range(epochs), np.array(tr_loss))"
   ]
  },
  {
   "cell_type": "markdown",
   "id": "2fb3dc16",
   "metadata": {},
   "source": [
    "> ### Represent latitude and longitude in buckets"
   ]
  },
  {
   "cell_type": "code",
   "execution_count": 17,
   "id": "2bd8dc4b",
   "metadata": {},
   "outputs": [
    {
     "name": "stdout",
     "output_type": "stream",
     "text": [
      "latitude boundaries: [32.0, 33.0, 34.0, 35.0, 36.0, 37.0, 38.0, 39.0, 40.0]\n"
     ]
    }
   ],
   "source": [
    "resolution_in_degrees = 1.0\n",
    "\n",
    "latitude_boundaries = list(np.arange(int(min(train_df['latitude'])),\n",
    "                                     int(max(train_df['latitude'])),\n",
    "                                     resolution_in_degrees))\n",
    "\n",
    "print(\"latitude boundaries: \" + str(latitude_boundaries))"
   ]
  },
  {
   "cell_type": "code",
   "execution_count": 18,
   "id": "f773f7e9",
   "metadata": {},
   "outputs": [],
   "source": [
    "latitude_boundaries = torch.tensor(latitude_boundaries, dtype=torch.float32)\n",
    "\n",
    "latitude_input = torch.tensor(train_df['latitude'], dtype=torch.float32)\n",
    "\n",
    "discretized_latitude = torch.bucketize(latitude_input, latitude_boundaries)\n",
    "\n",
    "num_bins = discretized_latitude.max().item() + 1\n",
    "\n",
    "one_hot_encoded_latitude = torch.nn.functional.one_hot(discretized_latitude,\n",
    "                                                       num_classes=num_bins)"
   ]
  },
  {
   "cell_type": "code",
   "execution_count": 20,
   "id": "f61ad204",
   "metadata": {},
   "outputs": [
    {
     "name": "stdout",
     "output_type": "stream",
     "text": [
      "longitude boundaries: [-124.0, -123.0, -122.0, -121.0, -120.0, -119.0, -118.0, -117.0, -116.0, -115.0]\n"
     ]
    }
   ],
   "source": [
    "longitude_boundaries = list(np.arange(int(min(train_df['longitude'])),\n",
    "                                      int(max(train_df['longitude'])),\n",
    "                                      resolution_in_degrees))\n",
    "\n",
    "print(\"longitude boundaries: \" + str(longitude_boundaries))"
   ]
  },
  {
   "cell_type": "code",
   "execution_count": 21,
   "id": "ec816c2f",
   "metadata": {},
   "outputs": [],
   "source": [
    "longitude_boundaries = torch.tensor(longitude_boundaries, dtype=torch.float32)\n",
    "\n",
    "longitude_input = torch.tensor(train_df['longitude'], dtype=torch.float32)\n",
    "\n",
    "discretized_longitude = torch.bucketize(longitude_input, longitude_boundaries)\n",
    "\n",
    "num_bins = discretized_longitude.max().item() + 1\n",
    "\n",
    "one_hot_encoded_longitude = torch.nn.functional.one_hot(discretized_longitude,\n",
    "                                                       num_classes=num_bins)"
   ]
  },
  {
   "cell_type": "code",
   "execution_count": 22,
   "id": "bab7a8d1",
   "metadata": {},
   "outputs": [],
   "source": [
    "concatenated_encoded_inputs = torch.cat((one_hot_encoded_latitude,\n",
    "                                         one_hot_encoded_longitude), dim=-1)\n",
    "\n",
    "concatenated_encoded_inputs = concatenated_encoded_inputs.type(torch.float32)"
   ]
  },
  {
   "cell_type": "code",
   "execution_count": 23,
   "id": "58857a8e",
   "metadata": {},
   "outputs": [],
   "source": [
    "class OneHotEncodedModel(nn.Module):\n",
    "    def __init__(self):\n",
    "        super().__init__()\n",
    "        self.layer = nn.Linear(21, 1)\n",
    "\n",
    "    def forward(self, x):\n",
    "        return self.layer(x)\n",
    "    \n",
    "def train_model(model, train_df, encoded_input, epochs, batch_size, label_name, my_lr):\n",
    "    train_loss_values = []\n",
    "    \n",
    "    criterion = nn.MSELoss()\n",
    "    optimizer = optim.RMSprop(model.parameters(), lr=my_lr)\n",
    "    \n",
    "    label = torch.tensor(train_df[label_name].values, dtype=torch.float32).unsqueeze(1)\n",
    "    \n",
    "    dataset = torch.utils.data.TensorDataset(encoded_input, label)\n",
    "    \n",
    "    dataloader = torch.utils.data.DataLoader(dataset, batch_size=batch_size, shuffle=True)\n",
    "    \n",
    "    for epoch in range(epochs):\n",
    "        model.train()\n",
    "        tr_epoch_loss = 0.0\n",
    "        for batch_feature, batch_label in dataloader:\n",
    "            train_preds = model(batch_feature)\n",
    "            train_loss = criterion(train_preds, batch_label)\n",
    "            tr_epoch_loss += train_loss.item()\n",
    "            optimizer.zero_grad()   \n",
    "            train_loss.backward()   \n",
    "            optimizer.step()\n",
    "        train_loss_values.append(tr_epoch_loss / len(dataloader))\n",
    "        \n",
    "        print(f\"Epoch: {epoch} | Train Loss: {tr_epoch_loss / len(dataloader)}\")\n",
    "    \n",
    "    return train_loss_values"
   ]
  },
  {
   "cell_type": "code",
   "execution_count": 24,
   "id": "6a05348e",
   "metadata": {},
   "outputs": [],
   "source": [
    "learning_rate = 0.04\n",
    "epochs = 35\n",
    "batch_size = 100\n",
    "\n",
    "model = OneHotEncodedModel()"
   ]
  },
  {
   "cell_type": "code",
   "execution_count": 25,
   "id": "b2b7af6a",
   "metadata": {},
   "outputs": [
    {
     "name": "stdout",
     "output_type": "stream",
     "text": [
      "Epoch: 0 | Train Loss: 48543.93095128676\n",
      "Epoch: 1 | Train Loss: 40638.93815487132\n",
      "Epoch: 2 | Train Loss: 34693.95865119485\n",
      "Epoch: 3 | Train Loss: 29612.933628216913\n",
      "Epoch: 4 | Train Loss: 25272.007571231617\n",
      "Epoch: 5 | Train Loss: 21617.548552389704\n",
      "Epoch: 6 | Train Loss: 18616.006686580884\n",
      "Epoch: 7 | Train Loss: 16207.529578354779\n",
      "Epoch: 8 | Train Loss: 14357.015670955883\n",
      "Epoch: 9 | Train Loss: 12988.76104664522\n",
      "Epoch: 10 | Train Loss: 12040.143247357537\n",
      "Epoch: 11 | Train Loss: 11425.761575137867\n",
      "Epoch: 12 | Train Loss: 11052.896156939338\n",
      "Epoch: 13 | Train Loss: 10838.59399988511\n",
      "Epoch: 14 | Train Loss: 10708.884021714155\n",
      "Epoch: 15 | Train Loss: 10626.513131893382\n",
      "Epoch: 16 | Train Loss: 10574.007246668198\n",
      "Epoch: 17 | Train Loss: 10538.899462890626\n",
      "Epoch: 18 | Train Loss: 10514.831097771139\n",
      "Epoch: 19 | Train Loss: 10496.475643382353\n",
      "Epoch: 20 | Train Loss: 10481.526752068015\n",
      "Epoch: 21 | Train Loss: 10469.174505974264\n",
      "Epoch: 22 | Train Loss: 10457.506666475183\n",
      "Epoch: 23 | Train Loss: 10447.320700252758\n",
      "Epoch: 24 | Train Loss: 10437.524640969668\n",
      "Epoch: 25 | Train Loss: 10428.447966452206\n",
      "Epoch: 26 | Train Loss: 10419.808025045955\n",
      "Epoch: 27 | Train Loss: 10411.903685087316\n",
      "Epoch: 28 | Train Loss: 10403.868982651655\n",
      "Epoch: 29 | Train Loss: 10396.34898035386\n",
      "Epoch: 30 | Train Loss: 10389.083194508272\n",
      "Epoch: 31 | Train Loss: 10381.934059053308\n",
      "Epoch: 32 | Train Loss: 10375.200565831801\n",
      "Epoch: 33 | Train Loss: 10368.639298023898\n",
      "Epoch: 34 | Train Loss: 10362.347420726102\n"
     ]
    }
   ],
   "source": [
    "tr_loss = train_model(model, train_df, concatenated_encoded_inputs,\n",
    "                      epochs, batch_size, 'median_house_value', learning_rate)"
   ]
  },
  {
   "cell_type": "code",
   "execution_count": 26,
   "id": "db6333c7",
   "metadata": {},
   "outputs": [
    {
     "data": {
      "image/png": "[encoded data removed]",
      "text/plain": [
       "<Figure size 640x480 with 1 Axes>"
      ]
     },
     "metadata": {},
     "output_type": "display_data"
    }
   ],
   "source": [
    "plot_the_loss_curve(range(epochs), np.array(tr_loss))"
   ]
  },
  {
   "cell_type": "code",
   "execution_count": null,
   "id": "1d74254e",
   "metadata": {},
   "outputs": [],
   "source": []
  }
 ],
 "metadata": {
  "kernelspec": {
   "display_name": "Python 3 (ipykernel)",
   "language": "python",
   "name": "python3"
  },
  "language_info": {
   "codemirror_mode": {
    "name": "ipython",
    "version": 3
   },
   "file_extension": ".py",
   "mimetype": "text/x-python",
   "name": "python",
   "nbconvert_exporter": "python",
   "pygments_lexer": "ipython3",
   "version": "3.9.19"
  }
 },
 "nbformat": 4,
 "nbformat_minor": 5
}
