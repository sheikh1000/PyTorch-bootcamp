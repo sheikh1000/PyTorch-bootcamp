{
 "cells": [
  {
   "cell_type": "code",
   "execution_count": 1,
   "id": "8fc326eb",
   "metadata": {},
   "outputs": [],
   "source": [
    "import numpy as np\n",
    "import pandas as pd\n",
    "\n",
    "from matplotlib import pyplot as plt\n",
    "\n",
    "import torch\n",
    "import torch.nn as nn\n",
    "import torch.optim as optim"
   ]
  },
  {
   "cell_type": "code",
   "execution_count": 21,
   "id": "663d150b",
   "metadata": {},
   "outputs": [],
   "source": [
    "import tensorflow as tf\n",
    "\n",
    "(x_train, y_train),(x_test, y_test) = tf.keras.datasets.mnist.load_data()"
   ]
  },
  {
   "cell_type": "code",
   "execution_count": 22,
   "id": "f1047fa7",
   "metadata": {},
   "outputs": [],
   "source": [
    "x_train_normalized = x_train / 255.0\n",
    "x_test_normalized = x_test / 255.0"
   ]
  },
  {
   "cell_type": "code",
   "execution_count": 58,
   "id": "d1fe9734",
   "metadata": {},
   "outputs": [],
   "source": [
    "def accuracy_fn(y_pred, y_true):\n",
    "    correct_preds = torch.eq(y_pred, y_true).sum().item()\n",
    "    accuracy = (correct_preds/len(y_pred)) * 100\n",
    "    return accuracy"
   ]
  },
  {
   "cell_type": "code",
   "execution_count": 43,
   "id": "cd455f21",
   "metadata": {},
   "outputs": [],
   "source": [
    "class SimpleNet(nn.Module):\n",
    "    def __init__(self):\n",
    "        super().__init__()\n",
    "        self.flatten = nn.Flatten()\n",
    "        self.layer_1 = nn.Linear(28 * 28, 32)\n",
    "        self.relu = nn.ReLU()\n",
    "        self.dropout = nn.Dropout(0.2)\n",
    "        self.layer_2 = nn.Linear(32, 10)\n",
    "\n",
    "    def forward(self, x):\n",
    "        x = self.flatten(x)\n",
    "        x = self.layer_1(x)\n",
    "        x = self.relu(x)\n",
    "        x = self.dropout(x)\n",
    "        x = self.layer_2(x)\n",
    "        return x"
   ]
  },
  {
   "cell_type": "code",
   "execution_count": 64,
   "id": "d2e390b4",
   "metadata": {},
   "outputs": [],
   "source": [
    "learning_rate = 0.003\n",
    "epochs = 50\n",
    "batch_size = 4000\n",
    "validation_split = 0.2\n",
    "\n",
    "model = SimpleNet()\n",
    "criterion = nn.CrossEntropyLoss()\n",
    "optimizer = optim.Adam(model.parameters(), lr=learning_rate)"
   ]
  },
  {
   "cell_type": "code",
   "execution_count": 51,
   "id": "ea058fff",
   "metadata": {},
   "outputs": [],
   "source": [
    "total_samples = len(x_train_normalized)\n",
    "train_size = int((1 - validation_split) * total_samples)\n",
    "val_size = total_samples - train_size"
   ]
  },
  {
   "cell_type": "code",
   "execution_count": 46,
   "id": "fe8e184c",
   "metadata": {},
   "outputs": [],
   "source": [
    "feature_tensor = torch.tensor(x_train_normalized, dtype=torch.float32)\n",
    "\n",
    "label_tensor = torch.tensor(y_train, dtype=torch.float32)\n",
    "\n",
    "dataset = torch.utils.data.TensorDataset(feature_tensor, label_tensor)\n",
    "\n",
    "train_dataset, val_dataset = torch.utils.data.random_split(dataset,\n",
    "                                                           [train_size, val_size])\n",
    "    \n",
    "    \n",
    "train_dataloader = torch.utils.data.DataLoader(train_dataset,\n",
    "                                               batch_size=batch_size, shuffle=True)\n",
    "    \n",
    "val_dataloader = torch.utils.data.DataLoader(val_dataset,\n",
    "                                             batch_size=batch_size, shuffle=True)"
   ]
  },
  {
   "cell_type": "code",
   "execution_count": 65,
   "id": "b7f1bf37",
   "metadata": {},
   "outputs": [
    {
     "name": "stdout",
     "output_type": "stream",
     "text": [
      "Epoch: 0 | Training Accuracy: 46.69166666666666 | Validation Accuracy: 75.8 %\n",
      "Epoch: 1 | Training Accuracy: 74.00625000000001 | Validation Accuracy: 84.7 %\n",
      "Epoch: 2 | Training Accuracy: 80.67916666666666 | Validation Accuracy: 88.175 %\n",
      "Epoch: 3 | Training Accuracy: 84.57916666666667 | Validation Accuracy: 89.47500000000001 %\n",
      "Epoch: 4 | Training Accuracy: 86.7 | Validation Accuracy: 90.46666666666665 %\n",
      "Epoch: 5 | Training Accuracy: 87.75208333333335 | Validation Accuracy: 90.93333333333332 %\n",
      "Epoch: 6 | Training Accuracy: 88.72291666666666 | Validation Accuracy: 91.5 %\n",
      "Epoch: 7 | Training Accuracy: 89.17708333333333 | Validation Accuracy: 91.85833333333335 %\n",
      "Epoch: 8 | Training Accuracy: 89.7375 | Validation Accuracy: 92.22499999999998 %\n",
      "Epoch: 9 | Training Accuracy: 90.08333333333333 | Validation Accuracy: 92.55000000000001 %\n",
      "Epoch: 10 | Training Accuracy: 90.45208333333333 | Validation Accuracy: 92.74166666666667 %\n",
      "Epoch: 11 | Training Accuracy: 90.76041666666667 | Validation Accuracy: 92.94166666666668 %\n",
      "Epoch: 12 | Training Accuracy: 90.875 | Validation Accuracy: 93.15833333333332 %\n",
      "Epoch: 13 | Training Accuracy: 91.325 | Validation Accuracy: 93.27500000000002 %\n",
      "Epoch: 14 | Training Accuracy: 91.41875 | Validation Accuracy: 93.44166666666668 %\n",
      "Epoch: 15 | Training Accuracy: 91.82291666666667 | Validation Accuracy: 93.69166666666666 %\n",
      "Epoch: 16 | Training Accuracy: 91.85000000000001 | Validation Accuracy: 93.83333333333333 %\n",
      "Epoch: 17 | Training Accuracy: 91.99583333333334 | Validation Accuracy: 93.86666666666667 %\n",
      "Epoch: 18 | Training Accuracy: 92.29166666666667 | Validation Accuracy: 94.05833333333334 %\n",
      "Epoch: 19 | Training Accuracy: 92.35624999999999 | Validation Accuracy: 94.15000000000002 %\n",
      "Epoch: 20 | Training Accuracy: 92.51458333333333 | Validation Accuracy: 94.20833333333333 %\n",
      "Epoch: 21 | Training Accuracy: 92.59166666666665 | Validation Accuracy: 94.26666666666667 %\n",
      "Epoch: 22 | Training Accuracy: 92.8875 | Validation Accuracy: 94.39999999999999 %\n",
      "Epoch: 23 | Training Accuracy: 92.97291666666668 | Validation Accuracy: 94.36666666666666 %\n",
      "Epoch: 24 | Training Accuracy: 92.92708333333333 | Validation Accuracy: 94.38333333333333 %\n",
      "Epoch: 25 | Training Accuracy: 93.06875000000001 | Validation Accuracy: 94.54166666666667 %\n",
      "Epoch: 26 | Training Accuracy: 93.2 | Validation Accuracy: 94.575 %\n",
      "Epoch: 27 | Training Accuracy: 93.19999999999999 | Validation Accuracy: 94.66666666666667 %\n",
      "Epoch: 28 | Training Accuracy: 93.36041666666667 | Validation Accuracy: 94.76666666666667 %\n",
      "Epoch: 29 | Training Accuracy: 93.55833333333334 | Validation Accuracy: 94.89166666666667 %\n",
      "Epoch: 30 | Training Accuracy: 93.66875 | Validation Accuracy: 94.85000000000001 %\n",
      "Epoch: 31 | Training Accuracy: 93.68541666666668 | Validation Accuracy: 95.0 %\n",
      "Epoch: 32 | Training Accuracy: 93.70416666666667 | Validation Accuracy: 95.03333333333332 %\n",
      "Epoch: 33 | Training Accuracy: 93.70208333333335 | Validation Accuracy: 95.0 %\n",
      "Epoch: 34 | Training Accuracy: 93.89999999999999 | Validation Accuracy: 95.10833333333333 %\n",
      "Epoch: 35 | Training Accuracy: 93.96666666666668 | Validation Accuracy: 95.15833333333335 %\n",
      "Epoch: 36 | Training Accuracy: 93.92291666666667 | Validation Accuracy: 95.23333333333333 %\n",
      "Epoch: 37 | Training Accuracy: 93.99166666666666 | Validation Accuracy: 95.175 %\n",
      "Epoch: 38 | Training Accuracy: 94.175 | Validation Accuracy: 95.23333333333333 %\n",
      "Epoch: 39 | Training Accuracy: 94.12916666666665 | Validation Accuracy: 95.14166666666665 %\n",
      "Epoch: 40 | Training Accuracy: 94.16041666666666 | Validation Accuracy: 95.23333333333333 %\n",
      "Epoch: 41 | Training Accuracy: 94.35833333333335 | Validation Accuracy: 95.31666666666666 %\n",
      "Epoch: 42 | Training Accuracy: 94.43124999999998 | Validation Accuracy: 95.31666666666666 %\n",
      "Epoch: 43 | Training Accuracy: 94.41250000000001 | Validation Accuracy: 95.29166666666667 %\n",
      "Epoch: 44 | Training Accuracy: 94.37916666666666 | Validation Accuracy: 95.33333333333333 %\n",
      "Epoch: 45 | Training Accuracy: 94.44583333333334 | Validation Accuracy: 95.35000000000001 %\n",
      "Epoch: 46 | Training Accuracy: 94.49166666666667 | Validation Accuracy: 95.53333333333335 %\n",
      "Epoch: 47 | Training Accuracy: 94.46249999999999 | Validation Accuracy: 95.43333333333334 %\n",
      "Epoch: 48 | Training Accuracy: 94.52708333333334 | Validation Accuracy: 95.52500000000002 %\n",
      "Epoch: 49 | Training Accuracy: 94.60833333333333 | Validation Accuracy: 95.55000000000001 %\n"
     ]
    }
   ],
   "source": [
    "tr_loss_list = []\n",
    "tr_acc_list = []\n",
    "val_loss_list = []\n",
    "val_acc_list = []\n",
    "\n",
    "for epoch in range(epochs):\n",
    "    model.train()\n",
    "    tr_epoch_loss = 0.0\n",
    "    tr_acc = 0.0\n",
    "    for batch_feature, batch_label in train_dataloader:\n",
    "        batch_label = batch_label.type(torch.long)\n",
    "        logits = model(batch_feature)\n",
    "        train_loss = criterion(logits, batch_label)\n",
    "        \n",
    "        pred_labels_train = torch.softmax(logits, dim=1).argmax(dim=1)\n",
    "        acc = accuracy_fn(y_true=batch_label, y_pred=pred_labels_train)\n",
    "        \n",
    "        optimizer.zero_grad()   \n",
    "        train_loss.backward()   \n",
    "        optimizer.step()\n",
    "        tr_epoch_loss += train_loss.item()\n",
    "        tr_acc += acc\n",
    "    \n",
    "    tr_loss_list.append(tr_epoch_loss / len(train_dataloader))\n",
    "    tr_acc_list.append(tr_acc / len(train_dataloader))\n",
    "    \n",
    "    model.eval()\n",
    "    with torch.no_grad():\n",
    "        val_epoch_loss = 0.0\n",
    "        val_acc = 0.0\n",
    "        for batch_feature, batch_label in val_dataloader:\n",
    "            batch_label = batch_label.type(torch.long)\n",
    "            logits = model(batch_feature)            \n",
    "            val_loss  = criterion(logits, batch_label)\n",
    "            \n",
    "            pred_labels_val = torch.softmax(logits, dim=1).argmax(dim=1)\n",
    "            acc = accuracy_fn(y_true=batch_label, y_pred=pred_labels_val)\n",
    "            \n",
    "            val_acc += acc\n",
    "            val_epoch_loss += val_loss.item()\n",
    "            \n",
    "            \n",
    "        val_loss_list.append(val_epoch_loss / len(val_dataloader))\n",
    "        val_acc_list.append(val_acc / len(val_dataloader))\n",
    "        \n",
    "    print(f\"Epoch: {epoch} | Training Accuracy: {tr_acc / len(train_dataloader)} | Validation Accuracy: {val_acc / len(val_dataloader)} %\")"
   ]
  },
  {
   "cell_type": "code",
   "execution_count": 68,
   "id": "0437b777",
   "metadata": {},
   "outputs": [
    {
     "data": {
      "image/png": "[encoded data removed]",
      "text/plain": [
       "<Figure size 640x480 with 1 Axes>"
      ]
     },
     "metadata": {},
     "output_type": "display_data"
    }
   ],
   "source": [
    "plt.figure()\n",
    "plt.xlabel(\"Epoch\")\n",
    "plt.ylabel(\"Accuracy\")\n",
    "\n",
    "plt.plot(range(epochs), tr_acc_list, label=\"Training Accuracy\")\n",
    "plt.plot(range(epochs), val_acc_list, label=\"Validation Accuracy\")\n",
    "\n",
    "merged_acc_lists = tr_acc_list + val_acc_list\n",
    "highest_acc = max(merged_acc_lists)\n",
    "lowest_acc = min(merged_acc_lists)\n",
    "top_of_y_axis = highest_acc * 1.03\n",
    "bottom_of_y_axis = lowest_acc * 0.97\n",
    "\n",
    "plt.ylim([bottom_of_y_axis, top_of_y_axis])\n",
    "plt.legend()\n",
    "plt.show()"
   ]
  },
  {
   "cell_type": "code",
   "execution_count": null,
   "id": "7fb36c64",
   "metadata": {},
   "outputs": [],
   "source": []
  }
 ],
 "metadata": {
  "kernelspec": {
   "display_name": "Python 3 (ipykernel)",
   "language": "python",
   "name": "python3"
  },
  "language_info": {
   "codemirror_mode": {
    "name": "ipython",
    "version": 3
   },
   "file_extension": ".py",
   "mimetype": "text/x-python",
   "name": "python",
   "nbconvert_exporter": "python",
   "pygments_lexer": "ipython3",
   "version": "3.9.19"
  }
 },
 "nbformat": 4,
 "nbformat_minor": 5
}
