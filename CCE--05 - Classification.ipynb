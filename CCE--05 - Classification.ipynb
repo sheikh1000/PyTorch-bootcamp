{
 "cells": [
  {
   "cell_type": "code",
   "execution_count": 1,
   "id": "46b27fd4",
   "metadata": {},
   "outputs": [],
   "source": [
    "import numpy as np\n",
    "import pandas as pd\n",
    "from matplotlib import pyplot as plt\n",
    "\n",
    "import torch\n",
    "import torch.nn as nn\n",
    "import torch.optim as optim"
   ]
  },
  {
   "cell_type": "code",
   "execution_count": 2,
   "id": "dd8f5bf2",
   "metadata": {},
   "outputs": [],
   "source": [
    "tr_path = \"https://download.mlcc.google.com/mledu-datasets/california_housing_train.csv\"\n",
    "ts_path = \"https://download.mlcc.google.com/mledu-datasets/california_housing_test.csv\""
   ]
  },
  {
   "cell_type": "code",
   "execution_count": 7,
   "id": "d2780be1",
   "metadata": {},
   "outputs": [],
   "source": [
    "train_df = pd.read_csv(tr_path)\n",
    "test_df = pd.read_csv(ts_path)\n",
    "\n",
    "train_df = train_df.reindex(np.random.permutation(train_df.index))"
   ]
  },
  {
   "cell_type": "code",
   "execution_count": 8,
   "id": "fe6343e3",
   "metadata": {},
   "outputs": [
    {
     "data": {
      "text/html": [
       "<div>\n",
       "<style scoped>\n",
       "    .dataframe tbody tr th:only-of-type {\n",
       "        vertical-align: middle;\n",
       "    }\n",
       "\n",
       "    .dataframe tbody tr th {\n",
       "        vertical-align: top;\n",
       "    }\n",
       "\n",
       "    .dataframe thead th {\n",
       "        text-align: right;\n",
       "    }\n",
       "</style>\n",
       "<table border=\"1\" class=\"dataframe\">\n",
       "  <thead>\n",
       "    <tr style=\"text-align: right;\">\n",
       "      <th></th>\n",
       "      <th>longitude</th>\n",
       "      <th>latitude</th>\n",
       "      <th>housing_median_age</th>\n",
       "      <th>total_rooms</th>\n",
       "      <th>total_bedrooms</th>\n",
       "      <th>population</th>\n",
       "      <th>households</th>\n",
       "      <th>median_income</th>\n",
       "      <th>median_house_value</th>\n",
       "    </tr>\n",
       "  </thead>\n",
       "  <tbody>\n",
       "    <tr>\n",
       "      <th>2614</th>\n",
       "      <td>0.948604</td>\n",
       "      <td>-0.737002</td>\n",
       "      <td>0.350415</td>\n",
       "      <td>-0.772342</td>\n",
       "      <td>-0.767286</td>\n",
       "      <td>-0.521473</td>\n",
       "      <td>-0.726156</td>\n",
       "      <td>-0.704595</td>\n",
       "      <td>-0.850989</td>\n",
       "    </tr>\n",
       "    <tr>\n",
       "      <th>2029</th>\n",
       "      <td>1.118166</td>\n",
       "      <td>-0.722966</td>\n",
       "      <td>1.383231</td>\n",
       "      <td>-0.612705</td>\n",
       "      <td>-0.624938</td>\n",
       "      <td>-0.743627</td>\n",
       "      <td>-0.668941</td>\n",
       "      <td>-0.364791</td>\n",
       "      <td>-1.063088</td>\n",
       "    </tr>\n",
       "    <tr>\n",
       "      <th>16387</th>\n",
       "      <td>-1.485110</td>\n",
       "      <td>1.092374</td>\n",
       "      <td>0.350415</td>\n",
       "      <td>-0.050306</td>\n",
       "      <td>-0.105364</td>\n",
       "      <td>-0.377726</td>\n",
       "      <td>-0.135810</td>\n",
       "      <td>0.222582</td>\n",
       "      <td>2.523630</td>\n",
       "    </tr>\n",
       "  </tbody>\n",
       "</table>\n",
       "</div>"
      ],
      "text/plain": [
       "       longitude  latitude  housing_median_age  total_rooms  total_bedrooms  \\\n",
       "2614    0.948604 -0.737002            0.350415    -0.772342       -0.767286   \n",
       "2029    1.118166 -0.722966            1.383231    -0.612705       -0.624938   \n",
       "16387  -1.485110  1.092374            0.350415    -0.050306       -0.105364   \n",
       "\n",
       "       population  households  median_income  median_house_value  \n",
       "2614    -0.521473   -0.726156      -0.704595           -0.850989  \n",
       "2029    -0.743627   -0.668941      -0.364791           -1.063088  \n",
       "16387   -0.377726   -0.135810       0.222582            2.523630  "
      ]
     },
     "execution_count": 8,
     "metadata": {},
     "output_type": "execute_result"
    }
   ],
   "source": [
    "train_df_mean = train_df.mean()\n",
    "train_df_std = train_df.std()\n",
    "train_df_norm = (train_df - train_df_mean) / train_df_std\n",
    "\n",
    "train_df_norm.head(3)"
   ]
  },
  {
   "cell_type": "code",
   "execution_count": 9,
   "id": "1ed1896c",
   "metadata": {},
   "outputs": [
    {
     "data": {
      "text/html": [
       "<div>\n",
       "<style scoped>\n",
       "    .dataframe tbody tr th:only-of-type {\n",
       "        vertical-align: middle;\n",
       "    }\n",
       "\n",
       "    .dataframe tbody tr th {\n",
       "        vertical-align: top;\n",
       "    }\n",
       "\n",
       "    .dataframe thead th {\n",
       "        text-align: right;\n",
       "    }\n",
       "</style>\n",
       "<table border=\"1\" class=\"dataframe\">\n",
       "  <thead>\n",
       "    <tr style=\"text-align: right;\">\n",
       "      <th></th>\n",
       "      <th>longitude</th>\n",
       "      <th>latitude</th>\n",
       "      <th>housing_median_age</th>\n",
       "      <th>total_rooms</th>\n",
       "      <th>total_bedrooms</th>\n",
       "      <th>population</th>\n",
       "      <th>households</th>\n",
       "      <th>median_income</th>\n",
       "      <th>median_house_value</th>\n",
       "    </tr>\n",
       "  </thead>\n",
       "  <tbody>\n",
       "    <tr>\n",
       "      <th>0</th>\n",
       "      <td>-1.240741</td>\n",
       "      <td>0.816330</td>\n",
       "      <td>-0.126270</td>\n",
       "      <td>0.569434</td>\n",
       "      <td>0.288468</td>\n",
       "      <td>0.093589</td>\n",
       "      <td>0.272490</td>\n",
       "      <td>1.428039</td>\n",
       "      <td>1.184641</td>\n",
       "    </tr>\n",
       "    <tr>\n",
       "      <th>1</th>\n",
       "      <td>0.629428</td>\n",
       "      <td>-0.638749</td>\n",
       "      <td>1.144889</td>\n",
       "      <td>-0.520042</td>\n",
       "      <td>-0.544273</td>\n",
       "      <td>-0.540639</td>\n",
       "      <td>-0.583120</td>\n",
       "      <td>-0.149138</td>\n",
       "      <td>-0.265562</td>\n",
       "    </tr>\n",
       "    <tr>\n",
       "      <th>2</th>\n",
       "      <td>0.873797</td>\n",
       "      <td>-0.863328</td>\n",
       "      <td>-0.126270</td>\n",
       "      <td>0.433651</td>\n",
       "      <td>-0.076894</td>\n",
       "      <td>0.047416</td>\n",
       "      <td>-0.016181</td>\n",
       "      <td>1.000873</td>\n",
       "      <td>0.544896</td>\n",
       "    </tr>\n",
       "  </tbody>\n",
       "</table>\n",
       "</div>"
      ],
      "text/plain": [
       "   longitude  latitude  housing_median_age  total_rooms  total_bedrooms  \\\n",
       "0  -1.240741  0.816330           -0.126270     0.569434        0.288468   \n",
       "1   0.629428 -0.638749            1.144889    -0.520042       -0.544273   \n",
       "2   0.873797 -0.863328           -0.126270     0.433651       -0.076894   \n",
       "\n",
       "   population  households  median_income  median_house_value  \n",
       "0    0.093589    0.272490       1.428039            1.184641  \n",
       "1   -0.540639   -0.583120      -0.149138           -0.265562  \n",
       "2    0.047416   -0.016181       1.000873            0.544896  "
      ]
     },
     "execution_count": 9,
     "metadata": {},
     "output_type": "execute_result"
    }
   ],
   "source": [
    "test_df_norm = (test_df - train_df_mean) / train_df_std\n",
    "\n",
    "test_df_norm.head(3)"
   ]
  },
  {
   "cell_type": "code",
   "execution_count": 10,
   "id": "bb0e302d",
   "metadata": {},
   "outputs": [],
   "source": [
    "threshold = 265000\n",
    "\n",
    "train_df_norm[\"median_house_value_is_high\"] = (train_df[\"median_house_value\"] >\n",
    "                                               threshold).astype(float)\n",
    "\n",
    "test_df_norm[\"median_house_value_is_high\"] = (test_df[\"median_house_value\"] >\n",
    "                                              threshold).astype(float)"
   ]
  },
  {
   "cell_type": "code",
   "execution_count": 43,
   "id": "32471e43",
   "metadata": {},
   "outputs": [
    {
     "name": "stdout",
     "output_type": "stream",
     "text": [
      "Shape of features tensor: torch.Size([17000, 2])\n",
      "Shape of label tensor: torch.Size([17000, 1])\n"
     ]
    }
   ],
   "source": [
    "features = ['median_income', 'total_rooms']\n",
    "\n",
    "labels = ['median_house_value_is_high']\n",
    "\n",
    "features_tensor = torch.tensor(train_df_norm.loc[:, features].values, dtype=torch.float32)\n",
    "\n",
    "label_tensor = torch.tensor(train_df_norm[labels].values, dtype=torch.float32)\n",
    "\n",
    "print(f\"Shape of features tensor: {features_tensor.shape}\")\n",
    "print(f\"Shape of label tensor: {label_tensor.shape}\")"
   ]
  },
  {
   "cell_type": "code",
   "execution_count": 45,
   "id": "789f2a16",
   "metadata": {},
   "outputs": [],
   "source": [
    "class BinaryClassifier(nn.Module):\n",
    "    def __init__(self):\n",
    "        super().__init__()\n",
    "        self.linear_layer_stack = nn.Sequential(\n",
    "            nn.Linear(in_features=2, out_features=1),\n",
    "        )\n",
    "        self.sigmoid = nn.Sigmoid()\n",
    "    \n",
    "    def forward(self, x):\n",
    "        x = self.linear_layer_stack(x)\n",
    "        x = self.sigmoid(x)\n",
    "        return x"
   ]
  },
  {
   "cell_type": "code",
   "execution_count": 109,
   "id": "d7dd83e4",
   "metadata": {},
   "outputs": [],
   "source": [
    "def binary_accuracy(preds, y, threshold=0.5):\n",
    "    rounded_preds = (preds > threshold).float()\n",
    "    correct = (rounded_preds == y).float()\n",
    "    accuracy = correct.sum() / len(correct)\n",
    "    return accuracy"
   ]
  },
  {
   "cell_type": "code",
   "execution_count": 149,
   "id": "8b747fc5",
   "metadata": {},
   "outputs": [],
   "source": [
    "learning_rate = 0.001\n",
    "epochs = 20\n",
    "batch_size = 100\n",
    "classification_threshold = 0.52"
   ]
  },
  {
   "cell_type": "code",
   "execution_count": 150,
   "id": "9a8dc0c7",
   "metadata": {},
   "outputs": [],
   "source": [
    "model = BinaryClassifier()\n",
    "criterion = nn.BCELoss()\n",
    "optimizer = optim.RMSprop(model.parameters(), lr=learning_rate)"
   ]
  },
  {
   "cell_type": "code",
   "execution_count": 151,
   "id": "5fe480ca",
   "metadata": {},
   "outputs": [],
   "source": [
    "dataset = torch.utils.data.TensorDataset(features_tensor, label_tensor)\n",
    "\n",
    "dataloader = torch.utils.data.DataLoader(dataset, batch_size=batch_size, shuffle=True)\n",
    "\n",
    "loss_list = []\n",
    "accuracy_list = []\n",
    "precision_list = []\n",
    "recall_list = []\n",
    "\n",
    "for epoch in range(epochs):\n",
    "    epoch_loss = 0.0\n",
    "    epoch_accuracy = 0.0\n",
    "    true_positives = 0\n",
    "    false_positives = 0\n",
    "    false_negatives = 0\n",
    "    for batch_feature, batch_label in dataloader:\n",
    "        outputs = model(batch_feature)\n",
    "        loss = criterion(outputs, batch_label)\n",
    "        \n",
    "        optimizer.zero_grad()\n",
    "        loss.backward()\n",
    "        optimizer.step()\n",
    "        \n",
    "        epoch_loss += loss.item()\n",
    "        epoch_accuracy += binary_accuracy(outputs, batch_label)\n",
    "        \n",
    "        rounded_preds = (outputs > 0.5).float()\n",
    "        true_positives += ((rounded_preds == 1) & (batch_label == 1)).sum().item()\n",
    "        false_positives += ((rounded_preds == 1) & (batch_label == 0)).sum().item()\n",
    "        false_negatives += ((rounded_preds == 0) & (batch_label == 1)).sum().item()\n",
    "        \n",
    "    \n",
    "    precision = true_positives / (true_positives + false_positives + 1e-9)\n",
    "    recall = true_positives / (true_positives + false_negatives + 1e-9)\n",
    "    \n",
    "    precision_list.append(precision)\n",
    "    recall_list.append(recall)\n",
    "    accuracy_list.append(epoch_accuracy / len(dataloader))\n",
    "    loss_list.append(epoch_loss / len(dataloader))"
   ]
  },
  {
   "cell_type": "code",
   "execution_count": 153,
   "id": "25dfc292",
   "metadata": {},
   "outputs": [
    {
     "data": {
      "image/png": "[encoded data removed]",
      "text/plain": [
       "<Figure size 640x480 with 1 Axes>"
      ]
     },
     "metadata": {},
     "output_type": "display_data"
    }
   ],
   "source": [
    "plt.figure()\n",
    "plt.xlabel(\"Epoch\")\n",
    "plt.ylabel(\"Value\")\n",
    "plt.plot([accuracy.detach().numpy() for accuracy in accuracy_list], label='Accuracy')\n",
    "plt.legend()\n",
    "plt.show()"
   ]
  },
  {
   "cell_type": "code",
   "execution_count": 154,
   "id": "a7a8af51",
   "metadata": {},
   "outputs": [
    {
     "data": {
      "image/png": "[encoded data removed]",
      "text/plain": [
       "<Figure size 640x480 with 1 Axes>"
      ]
     },
     "metadata": {},
     "output_type": "display_data"
    }
   ],
   "source": [
    "plt.figure()\n",
    "plt.xlabel(\"Epoch\")\n",
    "plt.ylabel(\"Value\")\n",
    "plt.plot([precision for precision in precision_list], label='Precision')\n",
    "plt.plot([recall for recall in recall_list], label='Recall')\n",
    "plt.legend()\n",
    "plt.show()"
   ]
  },
  {
   "cell_type": "code",
   "execution_count": 121,
   "id": "d2f4c99d",
   "metadata": {},
   "outputs": [],
   "source": [
    "test_features_tensor = torch.tensor(test_df_norm.loc[:, features].values,\n",
    "                                    dtype=torch.float32)\n",
    "\n",
    "test_label_tensor = torch.tensor(test_df_norm[labels].values, dtype=torch.float32)"
   ]
  },
  {
   "cell_type": "code",
   "execution_count": 155,
   "id": "7085af9f",
   "metadata": {},
   "outputs": [],
   "source": [
    "model.eval()\n",
    "with torch.inference_mode():\n",
    "    test_preds = model(test_features_tensor)\n",
    "    test_loss = criterion(test_preds, test_label_tensor)\n",
    "    test_acc = binary_accuracy(test_preds, test_label_tensor, classification_threshold)"
   ]
  }
 ],
 "metadata": {
  "kernelspec": {
   "display_name": "Python 3 (ipykernel)",
   "language": "python",
   "name": "python3"
  },
  "language_info": {
   "codemirror_mode": {
    "name": "ipython",
    "version": 3
   },
   "file_extension": ".py",
   "mimetype": "text/x-python",
   "name": "python",
   "nbconvert_exporter": "python",
   "pygments_lexer": "ipython3",
   "version": "3.9.19"
  }
 },
 "nbformat": 4,
 "nbformat_minor": 5
}
