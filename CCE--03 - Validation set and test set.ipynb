{
 "cells": [
  {
   "cell_type": "code",
   "execution_count": 1,
   "id": "f3ca7faa",
   "metadata": {},
   "outputs": [],
   "source": [
    "import numpy as np\n",
    "import pandas as pd\n",
    "from matplotlib import pyplot as plt\n",
    "\n",
    "import torch\n",
    "import torch.nn as nn\n",
    "import torch.optim as optim"
   ]
  },
  {
   "cell_type": "code",
   "execution_count": 4,
   "id": "d5db6a08",
   "metadata": {},
   "outputs": [],
   "source": [
    "tr_path = \"https://download.mlcc.google.com/mledu-datasets/california_housing_train.csv\"\n",
    "ts_path = \"https://download.mlcc.google.com/mledu-datasets/california_housing_test.csv\"\n",
    "\n",
    "train_df = pd.read_csv(tr_path)\n",
    "test_df = pd.read_csv(ts_path)"
   ]
  },
  {
   "cell_type": "code",
   "execution_count": 5,
   "id": "b9bc7979",
   "metadata": {},
   "outputs": [],
   "source": [
    "scale_factor = 1000.0\n",
    "\n",
    "train_df[\"median_house_value\"] /= scale_factor \n",
    "\n",
    "test_df[\"median_house_value\"] /= scale_factor"
   ]
  },
  {
   "cell_type": "markdown",
   "id": "7470fce8",
   "metadata": {},
   "source": [
    "> ### Functions for building and training our model"
   ]
  },
  {
   "cell_type": "code",
   "execution_count": 14,
   "id": "41e7dae4",
   "metadata": {},
   "outputs": [],
   "source": [
    "class LinearRegression(nn.Module):\n",
    "    def __init__(self):\n",
    "        super().__init__()\n",
    "                \n",
    "        self.linear = nn.Linear(in_features=1, out_features=1)\n",
    "\n",
    "    def forward(self, x):\n",
    "        return self.linear(x)\n",
    "    \n",
    "def build_model(my_learning_rate):\n",
    "    model = LinearRegression()\n",
    "    loss_fn = nn.MSELoss()\n",
    "    \n",
    "    optimizer = optim.RMSprop(model.parameters(), lr=my_learning_rate)\n",
    "    return model, loss_fn, optimizer\n",
    "\n",
    "def train_model(model, df, loss_fn, optimizer, feature, label, epochs,\n",
    "                batch_size, validation_split=0.2):\n",
    "    train_loss_values = []\n",
    "    val_loss_values = []\n",
    "    \n",
    "    feature_tensor = torch.tensor(df[feature].values,\n",
    "                                  dtype=torch.float32).unsqueeze(dim=1)\n",
    "    \n",
    "    label_tensor = torch.tensor(df[label].values,\n",
    "                                dtype=torch.float32).unsqueeze(dim=1)\n",
    "    \n",
    "    dataset = torch.utils.data.TensorDataset(feature_tensor, label_tensor)\n",
    "    \n",
    "    total_samples = len(df)\n",
    "    train_size = int((1 - validation_split) * total_samples)\n",
    "    val_size = total_samples - train_size\n",
    "    \n",
    "    train_dataset, val_dataset = torch.utils.data.random_split(dataset,\n",
    "                                                               [train_size, val_size])\n",
    "    \n",
    "    \n",
    "    train_dataloader = torch.utils.data.DataLoader(train_dataset,\n",
    "                                                   batch_size=batch_size, shuffle=True)\n",
    "    \n",
    "    val_dataloader = torch.utils.data.DataLoader(val_dataset,\n",
    "                                                 batch_size=batch_size, shuffle=False)\n",
    "    \n",
    "    for epoch in range(epochs):\n",
    "        model.train()\n",
    "        tr_epoch_loss = 0.0\n",
    "        for batch_feature, batch_label in train_dataloader:\n",
    "            train_preds = model(batch_feature)\n",
    "            train_loss = loss_fn(train_preds, batch_label)\n",
    "            tr_epoch_loss += train_loss.item()\n",
    "            optimizer.zero_grad()   \n",
    "            train_loss.backward()   \n",
    "            optimizer.step()\n",
    "        train_loss_values.append(tr_epoch_loss / len(train_dataloader))\n",
    "        \n",
    "        model.eval()\n",
    "        with torch.no_grad():\n",
    "            val_epoch_loss = 0.0\n",
    "            for batch_feature, batch_label in val_dataloader:\n",
    "                val_preds = model(batch_feature)\n",
    "                val_loss  = loss_fn(val_preds, batch_label)\n",
    "                val_epoch_loss += val_loss.item()\n",
    "        val_loss_values.append(val_epoch_loss / len(val_dataloader))\n",
    "        \n",
    "        print(f\"Epoch: {epoch} | Train Loss: {tr_epoch_loss / len(train_dataloader)} | Validation Loss: {val_epoch_loss / len(val_dataloader)}\")\n",
    "    \n",
    "    trained_weight = model.linear.weight.item()\n",
    "    trained_bias = model.linear.bias.item()\n",
    "    \n",
    "    return trained_weight, trained_bias, train_loss_values, val_loss_values"
   ]
  },
  {
   "cell_type": "markdown",
   "id": "67d232da",
   "metadata": {},
   "source": [
    "> #### Plotting functions"
   ]
  },
  {
   "cell_type": "code",
   "execution_count": 19,
   "id": "eef82962",
   "metadata": {},
   "outputs": [],
   "source": [
    "def plot_the_loss_curve(epochs, tr_error, val_error):\n",
    "    plt.figure()\n",
    "    plt.xlabel(\"Epoch\")\n",
    "    plt.ylabel(\"Root Mean Squared Error\")\n",
    "    tr_error = np.sqrt(tr_error)\n",
    "    val_error = np.sqrt(val_error)\n",
    "    plt.plot(epochs, tr_error, label=\"Training Loss\")\n",
    "    plt.plot(epochs, val_error, label=\"Validation Loss\")\n",
    "    plt.legend()\n",
    "    plt.show()"
   ]
  },
  {
   "cell_type": "markdown",
   "id": "86bee047",
   "metadata": {},
   "source": [
    "+ In the code below, the `validation_split` variable specifies the proportion of the original training set that will serve as the validation set<br><br>\n",
    "+ The original training set contains 17,000 examples. Therefore, a validation_split of 0.2 means that:\n",
    "    + 17,000 * 0.2 ~= 3,400 examples will become the validation set\n",
    "    + 17,000 * 0.8 ~= 13,600 examples will become the new training set\n",
    "<br><br>\n",
    "+ If the data in the training set is similar to the data in the validation set, then the two loss curves and the final loss values should be almost identical<br><br>\n",
    "+ However, we see that the loss curves and final loss values are not almost identical. Hmm, that's odd<br><br><br><br>\n",
    "\n",
    "+ Let's experiment with two or three different values of `validation_split` and see if it fixes the problem?<br><br>"
   ]
  },
  {
   "cell_type": "code",
   "execution_count": 12,
   "id": "2521eebd",
   "metadata": {},
   "outputs": [],
   "source": [
    "learning_rate = 0.08\n",
    "epochs = 30\n",
    "batch_size = 100\n",
    "\n",
    "validation_split = 0.2\n",
    "\n",
    "my_feature = \"median_income\"\n",
    "my_label = \"median_house_value\""
   ]
  },
  {
   "cell_type": "code",
   "execution_count": 15,
   "id": "d4e0671b",
   "metadata": {},
   "outputs": [
    {
     "name": "stdout",
     "output_type": "stream",
     "text": [
      "Epoch: 0 | Train Loss: 34845.17820829504 | Validation Loss: 23404.916877297794\n",
      "Epoch: 1 | Train Loss: 18474.782298368566 | Validation Loss: 13461.652774586397\n",
      "Epoch: 2 | Train Loss: 11184.2056202608 | Validation Loss: 8708.859906364889\n",
      "Epoch: 3 | Train Loss: 8029.799664665671 | Validation Loss: 7050.88045726103\n",
      "Epoch: 4 | Train Loss: 7165.723442526425 | Validation Loss: 6796.624526079963\n",
      "Epoch: 5 | Train Loss: 7072.329431870405 | Validation Loss: 6789.649055032169\n",
      "Epoch: 6 | Train Loss: 7071.114939970129 | Validation Loss: 6790.186552159927\n",
      "Epoch: 7 | Train Loss: 7070.079288258272 | Validation Loss: 6790.273279526655\n",
      "Epoch: 8 | Train Loss: 7070.4416719324445 | Validation Loss: 6795.123894186581\n",
      "Epoch: 9 | Train Loss: 7070.801326976103 | Validation Loss: 6793.196877872243\n",
      "Epoch: 10 | Train Loss: 7070.103865679573 | Validation Loss: 6789.175422219669\n",
      "Epoch: 11 | Train Loss: 7069.551176183364 | Validation Loss: 6789.732120289522\n",
      "Epoch: 12 | Train Loss: 7071.32134291705 | Validation Loss: 6789.092041015625\n",
      "Epoch: 13 | Train Loss: 7070.329959644991 | Validation Loss: 6789.042954388787\n",
      "Epoch: 14 | Train Loss: 7070.649349437041 | Validation Loss: 6789.879868451287\n",
      "Epoch: 15 | Train Loss: 7071.532327090993 | Validation Loss: 6789.233556410845\n",
      "Epoch: 16 | Train Loss: 7070.562449735754 | Validation Loss: 6790.949391084559\n",
      "Epoch: 17 | Train Loss: 7070.758939855239 | Validation Loss: 6794.949534696691\n",
      "Epoch: 18 | Train Loss: 7071.811507281135 | Validation Loss: 6791.850657743566\n",
      "Epoch: 19 | Train Loss: 7069.6396699793195 | Validation Loss: 6790.138312844669\n",
      "Epoch: 20 | Train Loss: 7069.936833998736 | Validation Loss: 6799.313534007353\n",
      "Epoch: 21 | Train Loss: 7069.98727237477 | Validation Loss: 6790.984762752757\n",
      "Epoch: 22 | Train Loss: 7071.581465777229 | Validation Loss: 6788.93123851103\n",
      "Epoch: 23 | Train Loss: 7070.682915182675 | Validation Loss: 6796.174991383272\n",
      "Epoch: 24 | Train Loss: 7070.471514533548 | Validation Loss: 6788.9453125\n",
      "Epoch: 25 | Train Loss: 7071.302728989545 | Validation Loss: 6789.19491038603\n",
      "Epoch: 26 | Train Loss: 7070.992557301241 | Validation Loss: 6789.802145565257\n",
      "Epoch: 27 | Train Loss: 7071.463267606848 | Validation Loss: 6789.363496668198\n",
      "Epoch: 28 | Train Loss: 7070.859565286075 | Validation Loss: 6789.356789981618\n",
      "Epoch: 29 | Train Loss: 7071.39510569853 | Validation Loss: 6788.950669232537\n"
     ]
    }
   ],
   "source": [
    "model, loss_fn, optimizer = build_model(learning_rate)\n",
    "\n",
    "tr_weight, tr_bias, tr_loss_list, val_loss_list = train_model(model, train_df, loss_fn,\n",
    "                                                              optimizer, my_feature,\n",
    "                                                              my_label, epochs,\n",
    "                                                              batch_size)"
   ]
  },
  {
   "cell_type": "code",
   "execution_count": 20,
   "id": "cf949bcd",
   "metadata": {},
   "outputs": [
    {
     "data": {
      "image/png": "[encoded data removed]",
      "text/plain": [
       "<Figure size 640x480 with 1 Axes>"
      ]
     },
     "metadata": {},
     "output_type": "display_data"
    }
   ],
   "source": [
    "plot_the_loss_curve(range(epochs), np.array(tr_loss_list), np.array(val_loss_list))"
   ]
  }
 ],
 "metadata": {
  "kernelspec": {
   "display_name": "Python 3 (ipykernel)",
   "language": "python",
   "name": "python3"
  },
  "language_info": {
   "codemirror_mode": {
    "name": "ipython",
    "version": 3
   },
   "file_extension": ".py",
   "mimetype": "text/x-python",
   "name": "python",
   "nbconvert_exporter": "python",
   "pygments_lexer": "ipython3",
   "version": "3.9.19"
  }
 },
 "nbformat": 4,
 "nbformat_minor": 5
}
