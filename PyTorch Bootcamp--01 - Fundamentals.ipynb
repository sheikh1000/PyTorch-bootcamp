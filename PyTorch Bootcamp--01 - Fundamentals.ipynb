{
 "cells": [
  {
   "cell_type": "code",
   "execution_count": 2,
   "id": "4a7a3d2d",
   "metadata": {},
   "outputs": [],
   "source": [
    "import torch\n",
    "import numpy as np\n",
    "import pandas as pd\n",
    "import matplotlib.pyplot as plt"
   ]
  },
  {
   "cell_type": "markdown",
   "id": "b88f340a",
   "metadata": {},
   "source": [
    "> ### Tensors\n",
    "\n",
    "+ A `torch.Tensor` is a multi-dimensional matrix containing elements of a single data type<br><br>\n",
    "+ A tensor can be constructed from a a NumPy array, a Python list or tuplle or simply a scalar using the `torch.tensor()` constructor:\n",
    "``` python\n",
    "torch.tensor([[1., -1.],\n",
    "                      [1., -1.]])\n",
    "\n",
    "torch.tensor(np.array([[1, 2, 3],\n",
    "                                    [4, 5, 6]]))\n",
    "```\n",
    "<br><br>\n",
    "+ A tensor of **specific data** type can be constructed by passing a `torch.dtype`:\n",
    "``` python\n",
    "torch.zeros(size=(2, 4), dtype=torch.int32)\n",
    "```\n",
    "<br><br>\n",
    "+ The contents of a tensor can be accessed and modified using Python’s indexing and slicing notation:\n",
    "``` python\n",
    "x = torch.tensor([[1, 2, 3],\n",
    "                            [4, 5, 6]])\n",
    "x[0][1] = 8\n",
    "```\n",
    "<br><br>\n",
    "+ Some common methods for creating tensors are:\n",
    "    ``` python\n",
    "    torch.zeros(size)\n",
    "    torch.ones(size)\n",
    "    torch.full(size, fill_value)\n",
    "    torch.eye(n, m)\n",
    "    torch.arange(start, end, step)\n",
    "    torch.linspace(start, end, steps)\n",
    "    torch.rand()\n",
    "    torch.randint()\n",
    "    ``` \n",
    "<br><br>\n",
    "+ Some common attributes of tensors are:\n",
    "    + ndim\n",
    "    + shape\n",
    "    + dtype"
   ]
  },
  {
   "cell_type": "markdown",
   "id": "b9666cfb",
   "metadata": {},
   "source": [
    "> ### Multplication operations\n",
    "+ Types of multiplication operations in PyTorch:\n",
    "    + Elementwise multiplication \n",
    "    + Matrix mutiplication"
   ]
  },
  {
   "cell_type": "markdown",
   "id": "378fa01f",
   "metadata": {},
   "source": [
    "> ### Common methods for tensor manipulation\n",
    "+ Reshaping\n",
    "+ Views\n",
    "+ Stacking\n",
    "+ Squeezing\n",
    "+ Unsqueezing\n",
    "+ Permute"
   ]
  }
 ],
 "metadata": {
  "kernelspec": {
   "display_name": "Python 3 (ipykernel)",
   "language": "python",
   "name": "python3"
  },
  "language_info": {
   "codemirror_mode": {
    "name": "ipython",
    "version": 3
   },
   "file_extension": ".py",
   "mimetype": "text/x-python",
   "name": "python",
   "nbconvert_exporter": "python",
   "pygments_lexer": "ipython3",
   "version": "3.9.19"
  }
 },
 "nbformat": 4,
 "nbformat_minor": 5
}
