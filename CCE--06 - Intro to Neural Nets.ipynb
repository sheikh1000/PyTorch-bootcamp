{
 "cells": [
  {
   "cell_type": "code",
   "execution_count": 1,
   "id": "05c2b3d4",
   "metadata": {},
   "outputs": [],
   "source": [
    "import numpy as np\n",
    "import pandas as pd\n",
    "from matplotlib import pyplot as plt\n",
    "\n",
    "import torch\n",
    "import torch.nn as nn\n",
    "import torch.optim as optim"
   ]
  },
  {
   "cell_type": "code",
   "execution_count": 2,
   "id": "1cb50570",
   "metadata": {},
   "outputs": [],
   "source": [
    "tr_path = \"https://download.mlcc.google.com/mledu-datasets/california_housing_train.csv\"\n",
    "ts_path = \"https://download.mlcc.google.com/mledu-datasets/california_housing_test.csv\""
   ]
  },
  {
   "cell_type": "code",
   "execution_count": 3,
   "id": "3e05641f",
   "metadata": {},
   "outputs": [],
   "source": [
    "train_df = pd.read_csv(tr_path)\n",
    "train_df = train_df.reindex(np.random.permutation(train_df.index))\n",
    "test_df = pd.read_csv(ts_path)"
   ]
  },
  {
   "cell_type": "code",
   "execution_count": 4,
   "id": "42440845",
   "metadata": {},
   "outputs": [],
   "source": [
    "class Normalization(nn.Module):\n",
    "    def __init__(self):\n",
    "        super().__init__()\n",
    "        self.layer = nn.Linear(1, 1)\n",
    "        self.mean = 0\n",
    "        self.std = 0\n",
    "\n",
    "    def forward(self, x):\n",
    "        feature_tensor = torch.tensor(x, dtype=torch.float32).unsqueeze(dim=1)\n",
    "        self.mean = torch.mean(feature_tensor)\n",
    "        self.std = torch.std(feature_tensor)\n",
    "        return (feature_tensor - self.mean) / self.std"
   ]
  },
  {
   "cell_type": "code",
   "execution_count": 5,
   "id": "2f52d637",
   "metadata": {},
   "outputs": [],
   "source": [
    "class DiscretizationLayer(nn.Module):\n",
    "    def __init__(self, bin_boundaries):\n",
    "        super().__init__()\n",
    "        self.bin_boundaries = torch.tensor(bin_boundaries, dtype=torch.float32)\n",
    "\n",
    "    def forward(self, x):\n",
    "        return torch.bucketize(x, self.bin_boundaries)"
   ]
  },
  {
   "cell_type": "code",
   "execution_count": 8,
   "id": "b352bce8",
   "metadata": {},
   "outputs": [],
   "source": [
    "import tensorflow as tf\n",
    "\n",
    "latitude_norm = Normalization()\n",
    "latitude_norm = latitude_norm(train_df['latitude'])\n",
    "latitude_boundaries = np.linspace(-3, 3, 20+1)\n",
    "latitude_discretized = DiscretizationLayer(latitude_boundaries)\n",
    "latitude_discretized = latitude_discretized(latitude_norm)\n",
    "\n",
    "longitude_norm = Normalization()\n",
    "longitude_norm = longitude_norm(train_df['longitude'])\n",
    "longitude_boundaries = np.linspace(-3, 3, 20+1)\n",
    "longitude_discretized = DiscretizationLayer(longitude_boundaries)\n",
    "longitude_discretized = longitude_discretized(longitude_norm)\n",
    "\n",
    "longitude_tf_tensors = tf.convert_to_tensor(longitude_discretized.detach().numpy())\n",
    "latitude_tf_tnesors = tf.convert_to_tensor(latitude_discretized.detach().numpy())\n",
    "\n",
    "feature_cross_output = tf.keras.layers.HashedCrossing(\n",
    "    num_bins=len(latitude_boundaries) * len(longitude_boundaries),\n",
    "    output_mode='one_hot',\n",
    "    name='cross_latitude_longitude')([latitude_tf_tnesors, longitude_tf_tensors])"
   ]
  },
  {
   "cell_type": "code",
   "execution_count": 21,
   "id": "b14871b0",
   "metadata": {},
   "outputs": [],
   "source": [
    "median_income_norm = Normalization()\n",
    "median_income_norm = median_income_norm(train_df['median_income'])\n",
    "\n",
    "population_norm = Normalization()\n",
    "population_norm = population_norm(train_df['population'])\n",
    "\n",
    "feature_cross = torch.tensor(feature_cross_output.numpy(), dtype = torch.float32)"
   ]
  },
  {
   "cell_type": "code",
   "execution_count": 31,
   "id": "89b5b9a0",
   "metadata": {},
   "outputs": [],
   "source": [
    "preprocessed_input = torch.cat([feature_cross, median_income_norm, population_norm],\n",
    "                               dim=1)"
   ]
  },
  {
   "cell_type": "code",
   "execution_count": 34,
   "id": "a3652029",
   "metadata": {},
   "outputs": [],
   "source": [
    "class LinearRegression(nn.Module):\n",
    "    def __init__(self):\n",
    "        super().__init__()                \n",
    "        self.linear = nn.Linear(in_features=443, out_features=1)\n",
    "\n",
    "    def forward(self, x):\n",
    "        return self.linear(x)"
   ]
  },
  {
   "cell_type": "code",
   "execution_count": 92,
   "id": "b9236a3a",
   "metadata": {},
   "outputs": [],
   "source": [
    "learning_rate = 0.01\n",
    "epochs = 15\n",
    "batch_size = 1000\n",
    "label_name = \"median_house_value\"\n",
    "validation_split = 0.2\n",
    "\n",
    "model = LinearRegression()\n",
    "criterion = nn.MSELoss()\n",
    "optimizer = torch.optim.Adam(model.parameters(), lr=learning_rate)"
   ]
  },
  {
   "cell_type": "code",
   "execution_count": 86,
   "id": "18e2d973",
   "metadata": {},
   "outputs": [],
   "source": [
    "label_tensor = Normalization()\n",
    "label_tensor = label_tensor(train_df[label_name])"
   ]
  },
  {
   "cell_type": "code",
   "execution_count": 87,
   "id": "6c4597f3",
   "metadata": {},
   "outputs": [],
   "source": [
    "total_samples = len(train_df)\n",
    "train_size = int((1 - validation_split) * total_samples)\n",
    "val_size = total_samples - train_size"
   ]
  },
  {
   "cell_type": "code",
   "execution_count": 88,
   "id": "812c874d",
   "metadata": {},
   "outputs": [],
   "source": [
    "dataset = torch.utils.data.TensorDataset(preprocessed_input, median_house_norm)\n",
    "\n",
    "train_dataset, val_dataset = torch.utils.data.random_split(dataset,\n",
    "                                                           [train_size, val_size])\n",
    "    \n",
    "    \n",
    "train_dataloader = torch.utils.data.DataLoader(train_dataset,\n",
    "                                               batch_size=batch_size, shuffle=True)\n",
    "    \n",
    "val_dataloader = torch.utils.data.DataLoader(val_dataset,\n",
    "                                             batch_size=batch_size, shuffle=True)"
   ]
  },
  {
   "cell_type": "code",
   "execution_count": 94,
   "id": "8f11056e",
   "metadata": {},
   "outputs": [
    {
     "name": "stdout",
     "output_type": "stream",
     "text": [
      "Epoch: 0 | Train Loss: 0.8906987862927573 | Validation Loss: 0.1469443440437317\n",
      "Epoch: 1 | Train Loss: 0.6414895866598401 | Validation Loss: 0.1469443440437317\n",
      "Epoch: 2 | Train Loss: 0.4885131482567106 | Validation Loss: 0.1469443440437317\n",
      "Epoch: 3 | Train Loss: 0.40521910573754993 | Validation Loss: 0.1469443440437317\n",
      "Epoch: 4 | Train Loss: 0.365046745964459 | Validation Loss: 0.1469443440437317\n",
      "Epoch: 5 | Train Loss: 0.3483814724854061 | Validation Loss: 0.1469443440437317\n",
      "Epoch: 6 | Train Loss: 0.34048678832394735 | Validation Loss: 0.1469443440437317\n",
      "Epoch: 7 | Train Loss: 0.3383647011859076 | Validation Loss: 0.1469443440437317\n",
      "Epoch: 8 | Train Loss: 0.3359633535146713 | Validation Loss: 0.1469443440437317\n",
      "Epoch: 9 | Train Loss: 0.3367744897093092 | Validation Loss: 0.1469443440437317\n",
      "Epoch: 10 | Train Loss: 0.3362488512481962 | Validation Loss: 0.1469443440437317\n",
      "Epoch: 11 | Train Loss: 0.33800309896469116 | Validation Loss: 0.1469443440437317\n",
      "Epoch: 12 | Train Loss: 0.33493521170956747 | Validation Loss: 0.1469443440437317\n",
      "Epoch: 13 | Train Loss: 0.3358271185840879 | Validation Loss: 0.1469443440437317\n",
      "Epoch: 14 | Train Loss: 0.3356174038989203 | Validation Loss: 0.1469443440437317\n"
     ]
    }
   ],
   "source": [
    "tr_loss_list = []\n",
    "val_loss_list = []\n",
    "\n",
    "for epoch in range(epochs):\n",
    "    model.train()\n",
    "    tr_epoch_loss = 0.0\n",
    "    for batch_feature, batch_label in train_dataloader:\n",
    "        train_preds = model(batch_feature)\n",
    "        train_loss = criterion(train_preds, batch_label)\n",
    "        \n",
    "        optimizer.zero_grad()   \n",
    "        train_loss.backward()   \n",
    "        optimizer.step()\n",
    "        tr_epoch_loss += train_loss.item()\n",
    "    \n",
    "    tr_loss_list.append(tr_epoch_loss / len(train_dataloader))\n",
    "    \n",
    "    model.eval()    \n",
    "    with torch.no_grad():\n",
    "        val_epoch_loss = 0.0\n",
    "        for batch_feature, batch_label in val_dataloader:\n",
    "            val_preds = model(batch_feature)\n",
    "            val_loss  = criterion(val_preds, batch_label).item()\n",
    "            val_epoch_loss += val_loss\n",
    "        val_loss_list.append(val_epoch_loss / len(val_dataloader))\n",
    "        \n",
    "    print(f\"Epoch: {epoch} | Train Loss: {tr_epoch_loss / len(train_dataloader)} | Validation Loss: {tr_val_loss / len(val_dataloader)}\")"
   ]
  },
  {
   "cell_type": "code",
   "execution_count": 106,
   "id": "385b66e5",
   "metadata": {},
   "outputs": [
    {
     "data": {
      "image/png": "[encoded data removed]",
      "text/plain": [
       "<Figure size 640x480 with 1 Axes>"
      ]
     },
     "metadata": {},
     "output_type": "display_data"
    }
   ],
   "source": [
    "plt.figure()\n",
    "plt.xlabel(\"Epoch\")\n",
    "plt.ylabel(\"Mean Squared Error\")\n",
    "\n",
    "plt.plot(range(epochs), tr_loss_list, label=\"Training Loss\")\n",
    "plt.plot(range(epochs), val_loss_list, label=\"Validation Loss\")\n",
    "\n",
    "merged_mse_lists = tr_loss_list + val_loss_list\n",
    "highest_loss = max(merged_mse_lists)\n",
    "lowest_loss = min(merged_mse_lists)\n",
    "top_of_y_axis = highest_loss * 1.03\n",
    "bottom_of_y_axis = lowest_loss * 0.97\n",
    "\n",
    "plt.ylim([bottom_of_y_axis, top_of_y_axis])\n",
    "plt.legend()\n",
    "plt.show()"
   ]
  },
  {
   "cell_type": "code",
   "execution_count": 108,
   "id": "999fbc80",
   "metadata": {},
   "outputs": [],
   "source": [
    "class NeuralNetwork(nn.Module):\n",
    "    def __init__(self):\n",
    "        super().__init__()\n",
    "        self.layer_1 = nn.Linear(in_features=443, out_features=20)\n",
    "        self.layer_2 = nn.Linear(in_features=20, out_features=12)\n",
    "        self.layer_3 = nn.Linear(in_features=12, out_features=1)\n",
    "        \n",
    "    def forward(self, x: torch.Tensor) -> torch.Tensor:\n",
    "        x = torch.relu(self.layer_1(x))\n",
    "        x = torch.relu(self.layer_2(x))\n",
    "        x = self.layer_3(x)\n",
    "        return x"
   ]
  },
  {
   "cell_type": "code",
   "execution_count": 110,
   "id": "67a840f5",
   "metadata": {},
   "outputs": [],
   "source": [
    "learning_rate = 0.01\n",
    "epochs = 20\n",
    "batch_size = 1000\n",
    "label_name = \"median_house_value\"\n",
    "validation_split = 0.2\n",
    "\n",
    "model = NeuralNetwork()\n",
    "criterion = nn.MSELoss()\n",
    "optimizer = torch.optim.Adam(model.parameters(), lr=learning_rate)"
   ]
  },
  {
   "cell_type": "code",
   "execution_count": 111,
   "id": "fe0adf7a",
   "metadata": {},
   "outputs": [
    {
     "name": "stdout",
     "output_type": "stream",
     "text": [
      "Epoch: 0 | Train Loss: 0.8272476324013301 | Validation Loss: 0.1469443440437317\n",
      "Epoch: 1 | Train Loss: 0.4017315421785627 | Validation Loss: 0.1469443440437317\n",
      "Epoch: 2 | Train Loss: 0.3459459160055433 | Validation Loss: 0.1469443440437317\n",
      "Epoch: 3 | Train Loss: 0.3315136453935078 | Validation Loss: 0.1469443440437317\n",
      "Epoch: 4 | Train Loss: 0.32611148272241863 | Validation Loss: 0.1469443440437317\n",
      "Epoch: 5 | Train Loss: 0.32224901020526886 | Validation Loss: 0.1469443440437317\n",
      "Epoch: 6 | Train Loss: 0.3229743391275406 | Validation Loss: 0.1469443440437317\n",
      "Epoch: 7 | Train Loss: 0.32078916473048075 | Validation Loss: 0.1469443440437317\n",
      "Epoch: 8 | Train Loss: 0.31787817605904173 | Validation Loss: 0.1469443440437317\n",
      "Epoch: 9 | Train Loss: 0.3205310276576451 | Validation Loss: 0.1469443440437317\n",
      "Epoch: 10 | Train Loss: 0.31850503172193256 | Validation Loss: 0.1469443440437317\n",
      "Epoch: 11 | Train Loss: 0.31748978793621063 | Validation Loss: 0.1469443440437317\n",
      "Epoch: 12 | Train Loss: 0.31530413031578064 | Validation Loss: 0.1469443440437317\n",
      "Epoch: 13 | Train Loss: 0.31587113652910503 | Validation Loss: 0.1469443440437317\n",
      "Epoch: 14 | Train Loss: 0.3151425059352602 | Validation Loss: 0.1469443440437317\n",
      "Epoch: 15 | Train Loss: 0.31430002408368246 | Validation Loss: 0.1469443440437317\n",
      "Epoch: 16 | Train Loss: 0.31301350040095194 | Validation Loss: 0.1469443440437317\n",
      "Epoch: 17 | Train Loss: 0.31313064268657137 | Validation Loss: 0.1469443440437317\n",
      "Epoch: 18 | Train Loss: 0.3117983639240265 | Validation Loss: 0.1469443440437317\n",
      "Epoch: 19 | Train Loss: 0.3138096566711153 | Validation Loss: 0.1469443440437317\n"
     ]
    }
   ],
   "source": [
    "tr_loss_list = []\n",
    "val_loss_list = []\n",
    "\n",
    "for epoch in range(epochs):\n",
    "    model.train()\n",
    "    tr_epoch_loss = 0.0\n",
    "    for batch_feature, batch_label in train_dataloader:\n",
    "        train_preds = model(batch_feature)\n",
    "        train_loss = criterion(train_preds, batch_label)\n",
    "        \n",
    "        optimizer.zero_grad()   \n",
    "        train_loss.backward()   \n",
    "        optimizer.step()\n",
    "        tr_epoch_loss += train_loss.item()\n",
    "    \n",
    "    tr_loss_list.append(tr_epoch_loss / len(train_dataloader))\n",
    "    \n",
    "    model.eval()    \n",
    "    with torch.no_grad():\n",
    "        val_epoch_loss = 0.0\n",
    "        for batch_feature, batch_label in val_dataloader:\n",
    "            val_preds = model(batch_feature)\n",
    "            val_loss  = criterion(val_preds, batch_label).item()\n",
    "            val_epoch_loss += val_loss\n",
    "        val_loss_list.append(val_epoch_loss / len(val_dataloader))\n",
    "        \n",
    "    print(f\"Epoch: {epoch} | Train Loss: {tr_epoch_loss / len(train_dataloader)} | Validation Loss: {tr_val_loss / len(val_dataloader)}\")"
   ]
  },
  {
   "cell_type": "code",
   "execution_count": 112,
   "id": "4ed01b51",
   "metadata": {},
   "outputs": [
    {
     "data": {
      "image/png": "[encoded data removed]",
      "text/plain": [
       "<Figure size 640x480 with 1 Axes>"
      ]
     },
     "metadata": {},
     "output_type": "display_data"
    }
   ],
   "source": [
    "plt.figure()\n",
    "plt.xlabel(\"Epoch\")\n",
    "plt.ylabel(\"Mean Squared Error\")\n",
    "\n",
    "plt.plot(range(epochs), tr_loss_list, label=\"Training Loss\")\n",
    "plt.plot(range(epochs), val_loss_list, label=\"Validation Loss\")\n",
    "\n",
    "merged_mse_lists = tr_loss_list + val_loss_list\n",
    "highest_loss = max(merged_mse_lists)\n",
    "lowest_loss = min(merged_mse_lists)\n",
    "top_of_y_axis = highest_loss * 1.03\n",
    "bottom_of_y_axis = lowest_loss * 0.97\n",
    "\n",
    "plt.ylim([bottom_of_y_axis, top_of_y_axis])\n",
    "plt.legend()\n",
    "plt.show()"
   ]
  }
 ],
 "metadata": {
  "kernelspec": {
   "display_name": "Python 3 (ipykernel)",
   "language": "python",
   "name": "python3"
  },
  "language_info": {
   "codemirror_mode": {
    "name": "ipython",
    "version": 3
   },
   "file_extension": ".py",
   "mimetype": "text/x-python",
   "name": "python",
   "nbconvert_exporter": "python",
   "pygments_lexer": "ipython3",
   "version": "3.9.19"
  }
 },
 "nbformat": 4,
 "nbformat_minor": 5
}
